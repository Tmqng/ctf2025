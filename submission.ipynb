{
 "cells": [
  {
   "cell_type": "code",
   "execution_count": 106,
   "id": "5d20962a",
   "metadata": {},
   "outputs": [
    {
     "name": "stdout",
     "output_type": "stream",
     "text": [
      "{\"points\":65.0,\"response\":true,\"user\":\"mi.nguyen\"}\n",
      "\n"
     ]
    }
   ],
   "source": [
    "import requests\n",
    "data = {\"number\": \"195\",\n",
    "        \"answer\": \"204\",\n",
    "        \"user\": \"mi.nguyen\"}\n",
    "r = requests.post(\"http://34.163.196.38/\", data=data)\n",
    "\n",
    "print(r.text)"
   ]
  }
 ],
 "metadata": {
  "kernelspec": {
   "display_name": "myenv",
   "language": "python",
   "name": "python3"
  },
  "language_info": {
   "codemirror_mode": {
    "name": "ipython",
    "version": 3
   },
   "file_extension": ".py",
   "mimetype": "text/x-python",
   "name": "python",
   "nbconvert_exporter": "python",
   "pygments_lexer": "ipython3",
   "version": "3.12.11"
  }
 },
 "nbformat": 4,
 "nbformat_minor": 5
}
